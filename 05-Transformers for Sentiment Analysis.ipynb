{
 "cells": [
  {
   "cell_type": "markdown",
   "metadata": {},
   "source": [
    "Transformers for Sentiment Analysis\n",
    "====\n",
    "\n",
    "In questo notebook andremo ad usare i transformers, sono stati introdotti per la prima volta in [questo paper](https://arxiv.org/abs/1706.03762). Nello specifico andremo ad utilizzare BERT (Bidirectional Encoder Representations from Transformers) descritto in [questo paper](https://arxiv.org/abs/1810.04805).\n",
    "\n",
    "I transformer sono modelli considerevolmente più grandi dei precedenti, andremo ad utilizzare una libreria che ci permette di avvicinarci a questi tipo di architetture senza grosse difficoltà. La [libreria](https://github.com/huggingface/transformers) ci permette di scaricare un modello pre-trained, congeleremo il transformer e addestreremo solo il modello che impara dal risultato del transformer.\n",
    "\n",
    "Preparazione dei dati\n",
    "----\n",
    "\n",
    "Per prima cosa impostiamo il seme dei numeri casuali per ottenere un risultato uguale."
   ]
  },
  {
   "cell_type": "code",
   "execution_count": 1,
   "metadata": {},
   "outputs": [],
   "source": [
    "import torch\n",
    "\n",
    "import random\n",
    "import numpy as np\n",
    "\n",
    "SEED = 1234\n",
    "\n",
    "random.seed(SEED)\n",
    "np.random.seed(SEED)\n",
    "torch.manual_seed(SEED)\n",
    "torch.backends.cudnn.deterministic = True"
   ]
  },
  {
   "cell_type": "markdown",
   "metadata": {},
   "source": [
    "Il transformer è stato addestrato su un vocabolario specifico, il che significa che dobbiamo replicare lo stesso vocabolario nel nostro datase e dobbiamo creare i token nello stesso modo in cui il trasformer è stato inizialmente addestrato.\n",
    "\n",
    "Fortunatamente la libreria transformers ha un tokenizer per ogni modello di transformer fornito. In questo caso useremo BERT ignorando le parole maiuscole (metteremo tutto in minuscolo). Lo facciamo caricando il tokenizer bert-base-uncased."
   ]
  },
  {
   "cell_type": "code",
   "execution_count": 2,
   "metadata": {},
   "outputs": [],
   "source": [
    "import logging\n",
    "logging.basicConfig(level=logging.INFO)"
   ]
  },
  {
   "cell_type": "code",
   "execution_count": 3,
   "metadata": {},
   "outputs": [
    {
     "name": "stderr",
     "output_type": "stream",
     "text": [
      "INFO:transformers.file_utils:PyTorch version 1.5.0 available.\n",
      "INFO:transformers.tokenization_utils:loading file https://s3.amazonaws.com/models.huggingface.co/bert/bert-base-uncased-vocab.txt from cache at C:\\Users\\fabio\\.cache\\torch\\transformers\\26bc1ad6c0ac742e9b52263248f6d0f00068293b33709fae12320c0e35ccfbbb.542ce4285a40d23a559526243235df47c5f75c197f04f37d1a0c124c32c9a084\n"
     ]
    }
   ],
   "source": [
    "from transformers import BertTokenizer\n",
    "\n",
    "tokenizer = BertTokenizer.from_pretrained('bert-base-uncased')"
   ]
  },
  {
   "cell_type": "markdown",
   "metadata": {},
   "source": [
    "Il `tokenizer` ha un attributo `vocab` che contiene il vocabolario che verrà utilizzato. Possiamo controllare il numero di vocaboli utilizzati andando a controllare la sua lunghezza."
   ]
  },
  {
   "cell_type": "code",
   "execution_count": 4,
   "metadata": {},
   "outputs": [
    {
     "data": {
      "text/plain": [
       "30522"
      ]
     },
     "execution_count": 4,
     "metadata": {},
     "output_type": "execute_result"
    }
   ],
   "source": [
    "len(tokenizer.vocab)"
   ]
  },
  {
   "cell_type": "markdown",
   "metadata": {},
   "source": [
    "Per utilizzare il `tokenizer` basta semplicemente chiamare `tokenizer.tokenize` sulla stringa. Questo andrà a tokenizzare e mettere in minuscolo la frase nella maniera più efficente per il modello pre-trained scelto."
   ]
  },
  {
   "cell_type": "code",
   "execution_count": 5,
   "metadata": {},
   "outputs": [
    {
     "name": "stdout",
     "output_type": "stream",
     "text": [
      "['hello', 'world', 'how', 'are', 'you', '?']\n"
     ]
    }
   ],
   "source": [
    "tokens = tokenizer.tokenize('Hello WORLD how ARE yoU?')\n",
    "\n",
    "print(tokens)"
   ]
  },
  {
   "cell_type": "markdown",
   "metadata": {},
   "source": [
    "possiamo trasformare in numeri i token appena generati"
   ]
  },
  {
   "cell_type": "code",
   "execution_count": 6,
   "metadata": {},
   "outputs": [
    {
     "name": "stdout",
     "output_type": "stream",
     "text": [
      "[7592, 2088, 2129, 2024, 2017, 1029]\n"
     ]
    }
   ],
   "source": [
    "indexes = tokenizer.convert_tokens_to_ids(tokens)\n",
    "\n",
    "print(indexes)"
   ]
  },
  {
   "cell_type": "markdown",
   "metadata": {},
   "source": [
    "Il transformer è stati addestrato con dei token speciali per segnare l'inizio e la fine di una frase.\n",
    "Abbiamo anche i token per la gestione del padding e delle parole sconosciute. Possiamo ottenere gli indici dal tokenizer.."
   ]
  },
  {
   "cell_type": "code",
   "execution_count": 7,
   "metadata": {},
   "outputs": [
    {
     "name": "stdout",
     "output_type": "stream",
     "text": [
      "[CLS] [SEP] [PAD] [UNK]\n"
     ]
    }
   ],
   "source": [
    "init_token = tokenizer.cls_token\n",
    "eos_token = tokenizer.sep_token\n",
    "pad_token = tokenizer.pad_token\n",
    "unk_token = tokenizer.unk_token\n",
    "\n",
    "print(init_token, eos_token, pad_token, unk_token)"
   ]
  },
  {
   "cell_type": "markdown",
   "metadata": {},
   "source": [
    "possiamo ottenere gli indici di questi token speciali convertendoli usando il dizionario"
   ]
  },
  {
   "cell_type": "code",
   "execution_count": 8,
   "metadata": {},
   "outputs": [
    {
     "name": "stdout",
     "output_type": "stream",
     "text": [
      "101 102 0 100\n"
     ]
    }
   ],
   "source": [
    "init_token_idx = tokenizer.convert_tokens_to_ids(init_token)\n",
    "eos_token_idx = tokenizer.convert_tokens_to_ids(eos_token)\n",
    "pad_token_idx = tokenizer.convert_tokens_to_ids(pad_token)\n",
    "unk_token_idx = tokenizer.convert_tokens_to_ids(unk_token)\n",
    "\n",
    "print(init_token_idx, eos_token_idx, pad_token_idx, unk_token_idx)"
   ]
  },
  {
   "cell_type": "markdown",
   "metadata": {},
   "source": [
    "o andandoli a leggere direttamente dal tokenizer"
   ]
  },
  {
   "cell_type": "code",
   "execution_count": 9,
   "metadata": {},
   "outputs": [
    {
     "name": "stdout",
     "output_type": "stream",
     "text": [
      "101 102 0 100\n"
     ]
    }
   ],
   "source": [
    "init_token_idx = tokenizer.cls_token_id\n",
    "eos_token_idx = tokenizer.sep_token_id\n",
    "pad_token_idx = tokenizer.pad_token_id\n",
    "unk_token_idx = tokenizer.unk_token_id\n",
    "\n",
    "print(init_token_idx, eos_token_idx, pad_token_idx, unk_token_idx)"
   ]
  },
  {
   "cell_type": "markdown",
   "metadata": {},
   "source": [
    "Un'altra cosa da gestire è che il modello è stato addestrato su delle sequenze con una lunghezza massima predefinita. Perciò non possiamo dargli in pasto sequenze maggiori con cui è stato addestrato. Possiamo ottenere la lunghezza massima di questo input andando a controllare `max_model_input_sizes` per la versione del trasformer che vogliamo usare. Nel nostro caso 512 token."
   ]
  },
  {
   "cell_type": "code",
   "execution_count": 10,
   "metadata": {},
   "outputs": [
    {
     "name": "stdout",
     "output_type": "stream",
     "text": [
      "512\n"
     ]
    }
   ],
   "source": [
    "max_input_length = tokenizer.max_model_input_sizes['bert-base-uncased']\n",
    "print(max_input_length)"
   ]
  },
  {
   "cell_type": "markdown",
   "metadata": {},
   "source": [
    "Precedentemente abbiamo usato spaCy come tokenizer. Dobbiamo impostare una funzione a cui passeremo il nostro campo TEXT e che eseguirà il lavoro per noi. \n",
    "Dobbiamo anche tagliare il numero di token alla massima lunghezza consentita.\n",
    "\n",
    "Nota che la nostra massima lunghezza è ridotta di due unità in quanto dobbiamo inserire un token all'inizio e alla fine di ogni frase."
   ]
  },
  {
   "cell_type": "code",
   "execution_count": 11,
   "metadata": {},
   "outputs": [],
   "source": [
    "def tokenize_and_cut(sentence):\n",
    "    tokens = tokenizer.tokenize(sentence) \n",
    "    tokens = tokens[:max_input_length-2]\n",
    "    return tokens"
   ]
  },
  {
   "cell_type": "markdown",
   "metadata": {},
   "source": [
    "Ora possiamo definire i nostri field. Il tranformer si aspetta come prima dimensione quella del batch, dunque impostiamo `batch_first = True`. Abbiamo già un vocabolario per il nostro testo, dato dal vocabolario del transformer dunque impostiamo `use_vocab = False` per dire a torchtext che useremo un nostro vocabolario.\n",
    "\n",
    "Impostiamo la nostra funzione `tokenize_and_cut` come tokenizer. Il parametro `preprocessing` è una funzione che viene invocata dopo il tokenize. Utilizzeremo questo punto per convertire i nostri token in indici.\n",
    "\n",
    "Alla fine impostiamo i special tokens, facendo attenzione a definirli come indici e non come stringhe questo perchè la stringa è già stata convertita in indici. \n",
    "\n",
    "Impostiamo anche il campo label come già fatto in precedenza."
   ]
  },
  {
   "cell_type": "code",
   "execution_count": 12,
   "metadata": {},
   "outputs": [],
   "source": [
    "from torchtext import data\n",
    "\n",
    "TEXT = data.Field(batch_first = True,\n",
    "                  use_vocab = False,\n",
    "                  tokenize = tokenize_and_cut,\n",
    "                  preprocessing = tokenizer.convert_tokens_to_ids,\n",
    "                  init_token = init_token_idx,\n",
    "                  eos_token = eos_token_idx,\n",
    "                  pad_token = pad_token_idx,\n",
    "                  unk_token = unk_token_idx)\n",
    "\n",
    "LABEL = data.LabelField(dtype = torch.float)"
   ]
  },
  {
   "cell_type": "markdown",
   "metadata": {},
   "source": [
    "Come al solito creiamo il dataset di validazione"
   ]
  },
  {
   "cell_type": "code",
   "execution_count": 13,
   "metadata": {},
   "outputs": [],
   "source": [
    "from torchtext import datasets\n",
    "\n",
    "train_data, test_data = datasets.IMDB.splits(TEXT, LABEL)\n",
    "train_data, valid_data = train_data.split(random_state = random.seed(SEED))"
   ]
  },
  {
   "cell_type": "code",
   "execution_count": 14,
   "metadata": {},
   "outputs": [
    {
     "name": "stdout",
     "output_type": "stream",
     "text": [
      "Number of training examples: 17500\n",
      "Number of validation examples: 7500\n",
      "Number of testing examples: 25000\n"
     ]
    }
   ],
   "source": [
    "print(f\"Number of training examples: {len(train_data)}\")\n",
    "print(f\"Number of validation examples: {len(valid_data)}\")\n",
    "print(f\"Number of testing examples: {len(test_data)}\")"
   ]
  },
  {
   "cell_type": "markdown",
   "metadata": {},
   "source": [
    "Andiamo ad analizzare un record per controllare il risultato della elaborazione"
   ]
  },
  {
   "cell_type": "code",
   "execution_count": 15,
   "metadata": {},
   "outputs": [
    {
     "name": "stdout",
     "output_type": "stream",
     "text": [
      "{'text': [1996, 18458, 1997, 6644, 9016, 4627, 2066, 2009, 2453, 2031, 2242, 2000, 3749, 1012, 1037, 2177, 1997, 2267, 13496, 2044, 4399, 1006, 1999, 1996, 2991, 1029, 1007, 3632, 2000, 1037, 7001, 6644, 1999, 1996, 5249, 2073, 2028, 2011, 2028, 2027, 2024, 4457, 2011, 2019, 16100, 5771, 5983, 7865, 1012, 1026, 7987, 1013, 1028, 1026, 7987, 1013, 1028, 6854, 1010, 1996, 2034, 20423, 2003, 2073, 2151, 6556, 3787, 1997, 2143, 3737, 2644, 1012, 6644, 9016, 2003, 2210, 2062, 2084, 2267, 4268, 2559, 2005, 3348, 1010, 22017, 4371, 1010, 3331, 2512, 1011, 2644, 2055, 2498, 1010, 1998, 3773, 2129, 2116, 1042, 1011, 9767, 2027, 2064, 2131, 2046, 1015, 1024, 2871, 2781, 2030, 2174, 2146, 2023, 6752, 2003, 1012, 1026, 7987, 1013, 1028, 1026, 7987, 1013, 1028, 1996, 4268, 2552, 1998, 10509, 5236, 2135, 2000, 2673, 2105, 2068, 1012, 2028, 1997, 2068, 2005, 6013, 9418, 2008, 1996, 3096, 7865, 2038, 10372, 2014, 3456, 1010, 2061, 2054, 2515, 2016, 2079, 1029, 2016, 7906, 21146, 6455, 2014, 3456, 7989, 2000, 2202, 5372, 2966, 3086, 2005, 2014, 8710, 1012, 1996, 3496, 2003, 2210, 2062, 2084, 1037, 7977, 2041, 1012, 1999, 2178, 3496, 1010, 7945, 2844, 2013, 1000, 2879, 6010, 2088, 1000, 4152, 19026, 2006, 1996, 2192, 2011, 2070, 4845, 2040, 2069, 2758, 1000, 28470, 1000, 1998, 7777, 2000, 2079, 16894, 14590, 2006, 2216, 2040, 4133, 2279, 2000, 2032, 1012, 2065, 2017, 2064, 3275, 2041, 1996, 3114, 2005, 2339, 1996, 1000, 28470, 1000, 4845, 2001, 2443, 1010, 1045, 1005, 1040, 2293, 2000, 2113, 1012, 4312, 1010, 7945, 18551, 1037, 3748, 3899, 1998, 3632, 2125, 2000, 9378, 2010, 19026, 2192, 1999, 1037, 2087, 3497, 19450, 3636, 1012, 2178, 4845, 7777, 2000, 4530, 1042, 1011, 9767, 1999, 24868, 2000, 2673, 2105, 2032, 1998, 5607, 29384, 1012, 2339, 1029, 2115, 3984, 2003, 2004, 2204, 2004, 3067, 999, 1026, 7987, 1013, 1028, 1026, 7987, 1013, 1028, 7945, 2844, 2003, 1996, 2069, 4845, 2007, 2151, 5038, 1999, 2023, 3185, 1012, 2002, 5363, 2000, 5475, 2111, 2091, 1999, 1011, 2090, 1996, 13175, 1998, 7491, 1998, 1042, 1008, 1008, 1008, 1061, 1008, 1008, 999, 9767, 2008, 2111, 2024, 6886, 2105, 1012, 2043, 1996, 4268, 4995, 1005, 1056, 13175, 1010, 2027, 2024, 2383, 2030, 3331, 2055, 3348, 2030, 3331, 14652, 2000, 1996, 2060, 4639, 3494, 2040, 2024, 2130, 2062, 1006, 2065, 2008, 2003, 2825, 1007, 10041, 2594, 2084, 1996, 4268, 999, 1996, 10041, 8872, 2007, 2019, 26264, 1997, 3438, 2012, 2190, 2089, 2022, 2028, 1997, 1996, 5409, 3772, 5841, 1045, 2031, 2412, 2464, 1999, 1037, 3185, 1012, 2017, 2831, 2055, 2111, 2025, 2652, 2007, 1037, 2440, 5877, 1010, 2023, 2079, 8024, 2987, 1005, 1056, 2130, 2113, 2129, 2000, 2424, 1996, 5329, 999, 8840, 2140, 999, 1045, 2001, 2066, 1010, 1000, 2097, 2017, 3531, 3844, 2039, 2525, 1029, 999, 1000, 2002, 3084, 1996, 4845, 5889, 2298, 2066, 11067, 2229, 999, 1996, 2069, 2112, 2008, 1045, 4066, 1997, 4669, 2001, 7945, 1005, 1055, 12459, 2466, 1006, 2348, 2175, 2854, 1007, 2055, 1996, 4315, 22043, 2094, 9116, 8975, 3124, 1012, 1999, 7636, 1010, 7945, 2056, 2008, 2002, 2018, 1037, 2307, 3066, 1997, 4847, 2005, 2472, 12005, 12211, 1012], 'label': 'neg'}\n"
     ]
    }
   ],
   "source": [
    "print(vars(train_data.examples[6]))"
   ]
  },
  {
   "cell_type": "markdown",
   "metadata": {},
   "source": [
    "Possiamo utilizzare la funzione `convert_ids_to_tokens` per trasformare gli indici in una lista di token leggibili. "
   ]
  },
  {
   "cell_type": "code",
   "execution_count": 16,
   "metadata": {},
   "outputs": [
    {
     "name": "stdout",
     "output_type": "stream",
     "text": [
      "['the', 'premise', 'of', 'cabin', 'fever', 'starts', 'like', 'it', 'might', 'have', 'something', 'to', 'offer', '.', 'a', 'group', 'of', 'college', 'teens', 'after', 'finals', '(', 'in', 'the', 'fall', '?', ')', 'goes', 'to', 'a', 'resort', 'cabin', 'in', 'the', 'woods', 'where', 'one', 'by', 'one', 'they', 'are', 'attacked', 'by', 'an', 'unseen', 'flesh', 'eating', 'virus', '.', '<', 'br', '/', '>', '<', 'br', '/', '>', 'unfortunately', ',', 'the', 'first', 'paragraph', 'is', 'where', 'any', 'remote', 'elements', 'of', 'film', 'quality', 'stop', '.', 'cabin', 'fever', 'is', 'little', 'more', 'than', 'college', 'kids', 'looking', 'for', 'sex', ',', 'boo', '##ze', ',', 'talking', 'non', '-', 'stop', 'about', 'nothing', ',', 'and', 'seeing', 'how', 'many', 'f', '-', 'bombs', 'they', 'can', 'get', 'into', '1', ':', '40', 'minutes', 'or', 'however', 'long', 'this', 'mess', 'is', '.', '<', 'br', '/', '>', '<', 'br', '/', '>', 'the', 'kids', 'act', 'and', 'react', 'stupid', '##ly', 'to', 'everything', 'around', 'them', '.', 'one', 'of', 'them', 'for', 'instance', 'discovers', 'that', 'the', 'skin', 'virus', 'has', 'infected', 'her', 'legs', ',', 'so', 'what', 'does', 'she', 'do', '?', 'she', 'keeps', 'sha', '##ving', 'her', 'legs', 'failing', 'to', 'take', 'proper', 'medical', 'attention', 'for', 'her', 'wounds', '.', 'the', 'scene', 'is', 'little', 'more', 'than', 'a', 'gross', 'out', '.', 'in', 'another', 'scene', ',', 'rider', 'strong', 'from', '\"', 'boy', 'meets', 'world', '\"', 'gets', 'bitten', 'on', 'the', 'hand', 'by', 'some', 'kid', 'who', 'only', 'says', '\"', 'pancakes', '\"', 'and', 'likes', 'to', 'do', 'karate', 'kicks', 'on', 'those', 'who', 'sit', 'next', 'to', 'him', '.', 'if', 'you', 'can', 'figure', 'out', 'the', 'reason', 'for', 'why', 'the', '\"', 'pancakes', '\"', 'kid', 'was', 'included', ',', 'i', \"'\", 'd', 'love', 'to', 'know', '.', 'anyway', ',', 'rider', 'pets', 'a', 'wild', 'dog', 'and', 'goes', 'off', 'to', 'wash', 'his', 'bitten', 'hand', 'in', 'a', 'most', 'likely', 'contaminated', 'creek', '.', 'another', 'kid', 'likes', 'to', 'drop', 'f', '-', 'bombs', 'in', 'reacting', 'to', 'everything', 'around', 'him', 'and', 'shoot', 'squirrels', '.', 'why', '?', 'your', 'guess', 'is', 'as', 'good', 'as', 'mine', '!', '<', 'br', '/', '>', '<', 'br', '/', '>', 'rider', 'strong', 'is', 'the', 'only', 'kid', 'with', 'any', 'recognition', 'in', 'this', 'movie', '.', 'he', 'tries', 'to', 'calm', 'people', 'down', 'in', '-', 'between', 'the', 'yelling', 'and', 'screaming', 'and', 'f', '*', '*', '*', 'y', '*', '*', '!', 'bombs', 'that', 'people', 'are', 'throwing', 'around', '.', 'when', 'the', 'kids', 'aren', \"'\", 't', 'yelling', ',', 'they', 'are', 'having', 'or', 'talking', 'about', 'sex', 'or', 'talking', 'nonsense', 'to', 'the', 'other', 'adult', 'characters', 'who', 'are', 'even', 'more', '(', 'if', 'that', 'is', 'possible', ')', 'idiot', '##ic', 'than', 'the', 'kids', '!', 'the', 'idiot', 'cop', 'with', 'an', 'iq', 'of', '60', 'at', 'best', 'may', 'be', 'one', 'of', 'the', 'worst', 'acting', 'jobs', 'i', 'have', 'ever', 'seen', 'in', 'a', 'movie', '.', 'you', 'talk', 'about', 'people', 'not', 'playing', 'with', 'a', 'full', 'deck', ',', 'this', 'do', '##rk', 'doesn', \"'\", 't', 'even', 'know', 'how', 'to', 'find', 'the', 'cards', '!', 'lo', '##l', '!', 'i', 'was', 'like', ',', '\"', 'will', 'you', 'please', 'shut', 'up', 'already', '?', '!', '\"', 'he', 'makes', 'the', 'kid', 'actors', 'look', 'like', 'genius', '##es', '!', 'the', 'only', 'part', 'that', 'i', 'sort', 'of', 'liked', 'was', 'rider', \"'\", 's', 'scary', 'story', '(', 'although', 'go', '##ry', ')', 'about', 'the', 'der', '##ange', '##d', 'bowling', 'alley', 'guy', '.', 'in', 'interviews', ',', 'rider', 'said', 'that', 'he', 'had', 'a', 'great', 'deal', 'of', 'respect', 'for', 'director', 'eli', 'roth', '.']\n"
     ]
    }
   ],
   "source": [
    "tokens = tokenizer.convert_ids_to_tokens(vars(train_data.examples[6])['text'])\n",
    "print(tokens)"
   ]
  },
  {
   "cell_type": "markdown",
   "metadata": {},
   "source": [
    "Sebbene abbiamo già un vocabolario per il testi, dobbiamo comunque creare un vocabolario per le label."
   ]
  },
  {
   "cell_type": "code",
   "execution_count": 17,
   "metadata": {},
   "outputs": [
    {
     "name": "stdout",
     "output_type": "stream",
     "text": [
      "defaultdict(None, {'neg': 0, 'pos': 1})\n"
     ]
    }
   ],
   "source": [
    "LABEL.build_vocab(train_data)\n",
    "print(LABEL.vocab.stoi)"
   ]
  },
  {
   "cell_type": "markdown",
   "metadata": {},
   "source": [
    "Come prima creaiamo gli iteratori. Cerchiamo di utilizzare la dimensione del batch size più grande possibile per ottenere il miglior risultato con i transformer. "
   ]
  },
  {
   "cell_type": "code",
   "execution_count": 18,
   "metadata": {},
   "outputs": [],
   "source": [
    "BATCH_SIZE = 64\n",
    "\n",
    "device = torch.device('cuda' if torch.cuda.is_available() else 'cpu')\n",
    "\n",
    "train_iterator, valid_iterator, test_iterator = data.BucketIterator.splits(\n",
    "    (train_data, valid_data, test_data), \n",
    "    batch_size = BATCH_SIZE, \n",
    "    device = device)"
   ]
  },
  {
   "cell_type": "markdown",
   "metadata": {},
   "source": [
    "Costruiamo il modello\n",
    "----\n",
    "\n",
    "Ora andremo a caricare il pre-trained model, facendo attenzione nel caricare lo stesso modello usato nel tokenizer."
   ]
  },
  {
   "cell_type": "code",
   "execution_count": 19,
   "metadata": {},
   "outputs": [
    {
     "name": "stderr",
     "output_type": "stream",
     "text": [
      "INFO:transformers.configuration_utils:loading configuration file https://s3.amazonaws.com/models.huggingface.co/bert/bert-base-uncased-config.json from cache at C:\\Users\\fabio\\.cache\\torch\\transformers\\4dad0251492946e18ac39290fcfe91b89d370fee250efe9521476438fe8ca185.7156163d5fdc189c3016baca0775ffce230789d7fa2a42ef516483e4ca884517\n",
      "INFO:transformers.configuration_utils:Model config BertConfig {\n",
      "  \"architectures\": [\n",
      "    \"BertForMaskedLM\"\n",
      "  ],\n",
      "  \"attention_probs_dropout_prob\": 0.1,\n",
      "  \"bos_token_id\": null,\n",
      "  \"do_sample\": false,\n",
      "  \"eos_token_ids\": null,\n",
      "  \"finetuning_task\": null,\n",
      "  \"hidden_act\": \"gelu\",\n",
      "  \"hidden_dropout_prob\": 0.1,\n",
      "  \"hidden_size\": 768,\n",
      "  \"id2label\": {\n",
      "    \"0\": \"LABEL_0\",\n",
      "    \"1\": \"LABEL_1\"\n",
      "  },\n",
      "  \"initializer_range\": 0.02,\n",
      "  \"intermediate_size\": 3072,\n",
      "  \"is_decoder\": false,\n",
      "  \"label2id\": {\n",
      "    \"LABEL_0\": 0,\n",
      "    \"LABEL_1\": 1\n",
      "  },\n",
      "  \"layer_norm_eps\": 1e-12,\n",
      "  \"length_penalty\": 1.0,\n",
      "  \"max_length\": 20,\n",
      "  \"max_position_embeddings\": 512,\n",
      "  \"model_type\": \"bert\",\n",
      "  \"num_attention_heads\": 12,\n",
      "  \"num_beams\": 1,\n",
      "  \"num_hidden_layers\": 12,\n",
      "  \"num_labels\": 2,\n",
      "  \"num_return_sequences\": 1,\n",
      "  \"output_attentions\": false,\n",
      "  \"output_hidden_states\": false,\n",
      "  \"output_past\": true,\n",
      "  \"pad_token_id\": 0,\n",
      "  \"pruned_heads\": {},\n",
      "  \"repetition_penalty\": 1.0,\n",
      "  \"temperature\": 1.0,\n",
      "  \"top_k\": 50,\n",
      "  \"top_p\": 1.0,\n",
      "  \"torchscript\": false,\n",
      "  \"type_vocab_size\": 2,\n",
      "  \"use_bfloat16\": false,\n",
      "  \"vocab_size\": 30522\n",
      "}\n",
      "\n",
      "INFO:transformers.modeling_utils:loading weights file https://s3.amazonaws.com/models.huggingface.co/bert/bert-base-uncased-pytorch_model.bin from cache at C:\\Users\\fabio\\.cache\\torch\\transformers\\aa1ef1aede4482d0dbcd4d52baad8ae300e60902e88fcb0bebdec09afd232066.36ca03ab34a1a5d5fa7bc3d03d55c4fa650fed07220e2eeebc06ce58d0e9a157\n"
     ]
    }
   ],
   "source": [
    "from transformers import BertModel\n",
    "\n",
    "bert = BertModel.from_pretrained('bert-base-uncased')"
   ]
  },
  {
   "cell_type": "markdown",
   "metadata": {},
   "source": [
    "Ora impostiamo il nostro modello.\n",
    "\n",
    "Invece di utilizzare un embedding layer per fare il lavoro, andremo ad utilizzare il risultato del nostro pre-trained transformer.\n",
    "\n",
    "Questo embedding verrà utilizzato per alimentare una rete neuronale la quale ci darà il nostro risultato. Possiamo ottenere la dimensione di embedding chiamata anche `hidden_size` dal transformer dal suo parametro config.\n",
    "\n",
    "Il resto della inizializzazione è standard.\n",
    "\n",
    "Nel passo di forward, andiamo a impostare il parametro no_grad per essere sicuri che il nostro gradiente sia calcolato fuori dal modello bert.\n",
    "\n",
    "Il transfomer ritorna un embedding per l'intera sequenza cosi come un pooled output.\n",
    "Il pooled output è una sorta di riassunto del contenuto anche se la documentazione riporta che: \"spesso non è un buon riassunto del contenuto semantico dell'input è meglio prendere la sequenza di hidden state e fare averaging o pooling della sequenza di hidden state\"."
   ]
  },
  {
   "cell_type": "code",
   "execution_count": 20,
   "metadata": {},
   "outputs": [
    {
     "name": "stdout",
     "output_type": "stream",
     "text": [
      "768\n"
     ]
    }
   ],
   "source": [
    "print(bert.config.hidden_size)"
   ]
  },
  {
   "cell_type": "markdown",
   "metadata": {},
   "source": [
    "Andiamo ad analizzare le dimensioni dell'output del modello bert"
   ]
  },
  {
   "cell_type": "code",
   "execution_count": 21,
   "metadata": {},
   "outputs": [
    {
     "name": "stdout",
     "output_type": "stream",
     "text": [
      "torch.Size([1, 8])\n",
      "['[CLS]', 'this', 'film', 'wasn', \"'\", 't', 'great', '[SEP]']\n",
      "torch.Size([1, 8, 768])\n",
      "torch.Size([1, 768])\n"
     ]
    }
   ],
   "source": [
    "import torch\n",
    "\n",
    "sequence = \"This film wasn't great\"\n",
    "\n",
    "input_ids = torch.tensor(tokenizer.encode(sequence, add_special_tokens=True)).unsqueeze(0)  # Batch size 1\n",
    "\n",
    "print(input_ids.shape)\n",
    "tokens = tokenizer.convert_ids_to_tokens(input_ids.squeeze(0))\n",
    "print(tokens)\n",
    "\n",
    "outputs = bert(input_ids)\n",
    "\n",
    "last_hidden_states = outputs[0]\n",
    "print(last_hidden_states.shape)\n",
    "\n",
    "\n",
    "pooler_output = outputs[1]\n",
    "print(pooler_output.shape)\n"
   ]
  },
  {
   "cell_type": "markdown",
   "metadata": {},
   "source": [
    "Come scritto nella documentazione andiamo a provare il codice per l'averaging (media) dei tensori dell'hidden state"
   ]
  },
  {
   "cell_type": "code",
   "execution_count": 22,
   "metadata": {},
   "outputs": [
    {
     "name": "stdout",
     "output_type": "stream",
     "text": [
      "torch.Size([1, 768])\n"
     ]
    }
   ],
   "source": [
    "import torch.nn.functional as F\n",
    "pooled = F.avg_pool2d(last_hidden_states, (last_hidden_states.shape[1], 1)).squeeze(1) \n",
    "print(pooled.shape)"
   ]
  },
  {
   "cell_type": "markdown",
   "metadata": {},
   "source": [
    "Possiamo utilizzare anche un modello per la classificazione completo [BertForSequenceClassification](https://huggingface.co/transformers/_modules/transformers/modeling_bert.html#BertForSequenceClassification) ma preferisco creare un modello da zero per capire il più possibile il funzionamento di bert. Qui sotto comunque un esempio di funzionamento "
   ]
  },
  {
   "cell_type": "code",
   "execution_count": 23,
   "metadata": {},
   "outputs": [
    {
     "name": "stderr",
     "output_type": "stream",
     "text": [
      "INFO:transformers.configuration_utils:loading configuration file https://s3.amazonaws.com/models.huggingface.co/bert/bert-base-uncased-config.json from cache at C:\\Users\\fabio\\.cache\\torch\\transformers\\4dad0251492946e18ac39290fcfe91b89d370fee250efe9521476438fe8ca185.7156163d5fdc189c3016baca0775ffce230789d7fa2a42ef516483e4ca884517\n",
      "INFO:transformers.configuration_utils:Model config BertConfig {\n",
      "  \"architectures\": [\n",
      "    \"BertForMaskedLM\"\n",
      "  ],\n",
      "  \"attention_probs_dropout_prob\": 0.1,\n",
      "  \"bos_token_id\": null,\n",
      "  \"do_sample\": false,\n",
      "  \"eos_token_ids\": null,\n",
      "  \"finetuning_task\": null,\n",
      "  \"hidden_act\": \"gelu\",\n",
      "  \"hidden_dropout_prob\": 0.1,\n",
      "  \"hidden_size\": 768,\n",
      "  \"id2label\": {\n",
      "    \"0\": \"LABEL_0\",\n",
      "    \"1\": \"LABEL_1\"\n",
      "  },\n",
      "  \"initializer_range\": 0.02,\n",
      "  \"intermediate_size\": 3072,\n",
      "  \"is_decoder\": false,\n",
      "  \"label2id\": {\n",
      "    \"LABEL_0\": 0,\n",
      "    \"LABEL_1\": 1\n",
      "  },\n",
      "  \"layer_norm_eps\": 1e-12,\n",
      "  \"length_penalty\": 1.0,\n",
      "  \"max_length\": 20,\n",
      "  \"max_position_embeddings\": 512,\n",
      "  \"model_type\": \"bert\",\n",
      "  \"num_attention_heads\": 12,\n",
      "  \"num_beams\": 1,\n",
      "  \"num_hidden_layers\": 12,\n",
      "  \"num_labels\": 2,\n",
      "  \"num_return_sequences\": 1,\n",
      "  \"output_attentions\": false,\n",
      "  \"output_hidden_states\": false,\n",
      "  \"output_past\": true,\n",
      "  \"pad_token_id\": 0,\n",
      "  \"pruned_heads\": {},\n",
      "  \"repetition_penalty\": 1.0,\n",
      "  \"temperature\": 1.0,\n",
      "  \"top_k\": 50,\n",
      "  \"top_p\": 1.0,\n",
      "  \"torchscript\": false,\n",
      "  \"type_vocab_size\": 2,\n",
      "  \"use_bfloat16\": false,\n",
      "  \"vocab_size\": 30522\n",
      "}\n",
      "\n",
      "INFO:transformers.modeling_utils:loading weights file https://s3.amazonaws.com/models.huggingface.co/bert/bert-base-uncased-pytorch_model.bin from cache at C:\\Users\\fabio\\.cache\\torch\\transformers\\aa1ef1aede4482d0dbcd4d52baad8ae300e60902e88fcb0bebdec09afd232066.36ca03ab34a1a5d5fa7bc3d03d55c4fa650fed07220e2eeebc06ce58d0e9a157\n",
      "INFO:transformers.modeling_utils:Weights of BertForSequenceClassification not initialized from pretrained model: ['classifier.weight', 'classifier.bias']\n",
      "INFO:transformers.modeling_utils:Weights from pretrained model not used in BertForSequenceClassification: ['cls.predictions.bias', 'cls.predictions.transform.dense.weight', 'cls.predictions.transform.dense.bias', 'cls.predictions.decoder.weight', 'cls.seq_relationship.weight', 'cls.seq_relationship.bias', 'cls.predictions.transform.LayerNorm.weight', 'cls.predictions.transform.LayerNorm.bias']\n"
     ]
    },
    {
     "name": "stdout",
     "output_type": "stream",
     "text": [
      "tensor([[0.0765, 0.3524]], grad_fn=<AddmmBackward>)\n",
      "tensor([1]) tensor([0.3524], grad_fn=<MaxBackward0>)\n"
     ]
    }
   ],
   "source": [
    "from transformers import BertForSequenceClassification\n",
    "model = BertForSequenceClassification.from_pretrained('bert-base-uncased')\n",
    "\n",
    "#configurazione\n",
    "model.config\n",
    "\n",
    "input_ids = torch.tensor(tokenizer.encode(sequence, add_special_tokens=True)).unsqueeze(0)\n",
    "outputs = model(input_ids)[0]\n",
    "print(outputs)\n",
    "values, indices = torch.max(outputs,1)\n",
    "print(indices,values)\n"
   ]
  },
  {
   "cell_type": "markdown",
   "metadata": {},
   "source": [
    "Andiamo a creare il modello e instanziarlo"
   ]
  },
  {
   "cell_type": "code",
   "execution_count": 24,
   "metadata": {},
   "outputs": [],
   "source": [
    "import torch.nn as nn\n",
    "\n",
    "class BERTSentiment(nn.Module):\n",
    "    def __init__(self,bert,output_dim,dropout):\n",
    "        \n",
    "        super().__init__()\n",
    "        \n",
    "        self.bert = bert\n",
    "        embedding_dim = bert.config.to_dict()['hidden_size']\n",
    "        self.dropout = nn.Dropout(dropout)\n",
    "        self.out = nn.Linear(embedding_dim, output_dim)\n",
    "        \n",
    "       \n",
    "        \n",
    "    def forward(self, text):\n",
    "        \n",
    "        #text = [batch size, sent len]\n",
    "                \n",
    "        with torch.no_grad():\n",
    "           last_hidden_states,_ = self.bert(text)\n",
    "        \n",
    "        pooled = F.avg_pool2d(last_hidden_states, (last_hidden_states.shape[1], 1)).squeeze(1) \n",
    "        #pooled = [batch size, emb dim]\n",
    "        \n",
    "        pooled = self.dropout(pooled)\n",
    "        output = self.out(pooled)\n",
    "        \n",
    "        #output = [batch size, out dim]\n",
    "        \n",
    "        return output"
   ]
  },
  {
   "cell_type": "code",
   "execution_count": 25,
   "metadata": {},
   "outputs": [],
   "source": [
    "OUTPUT_DIM = 1\n",
    "DROPOUT = 0.25\n",
    "model = BERTSentiment(bert,OUTPUT_DIM,DROPOUT)"
   ]
  },
  {
   "cell_type": "markdown",
   "metadata": {},
   "source": [
    "Andiamo a controllare il numero dei parametri del modello.\n",
    "Fino ad ora non abbiamo superato 5M, ma questo modello supera i 112 Milioni di parametri. Fortunatamente ben 100 Milioni di parametri sono del transformer e non devono essere usati nella fase di train."
   ]
  },
  {
   "cell_type": "code",
   "execution_count": 26,
   "metadata": {},
   "outputs": [
    {
     "name": "stdout",
     "output_type": "stream",
     "text": [
      "The model has 109,483,009 trainable parameters\n"
     ]
    }
   ],
   "source": [
    "def count_parameters(model):\n",
    "    return sum(p.numel() for p in model.parameters() if p.requires_grad)\n",
    "\n",
    "print(f'The model has {count_parameters(model):,} trainable parameters')"
   ]
  },
  {
   "cell_type": "markdown",
   "metadata": {},
   "source": [
    "Per bloccare i parametri dobbiamo impostare il parametro `requires_grad` a False. Per fare questo, semplicemente controlliamo tutti i `named_parameters` nel nostro modello e se fanno parte del nostro transformer impostiamo `requires_grad = False`."
   ]
  },
  {
   "cell_type": "code",
   "execution_count": 27,
   "metadata": {},
   "outputs": [],
   "source": [
    "for name, param in model.named_parameters():                \n",
    "    if name.startswith('bert'):\n",
    "        param.requires_grad = False"
   ]
  },
  {
   "cell_type": "code",
   "execution_count": 28,
   "metadata": {},
   "outputs": [
    {
     "name": "stdout",
     "output_type": "stream",
     "text": [
      "The model has 769 trainable parameters\n"
     ]
    }
   ],
   "source": [
    "def count_parameters(model):\n",
    "    return sum(p.numel() for p in model.parameters() if p.requires_grad)\n",
    "\n",
    "print(f'The model has {count_parameters(model):,} trainable parameters')"
   ]
  },
  {
   "cell_type": "markdown",
   "metadata": {},
   "source": [
    "A solo scopo didattico andiamo a vedere quali sono i parametri che possono essere usati per addestrare il modello"
   ]
  },
  {
   "cell_type": "code",
   "execution_count": 29,
   "metadata": {},
   "outputs": [
    {
     "name": "stdout",
     "output_type": "stream",
     "text": [
      "out.weight\n",
      "out.bias\n"
     ]
    }
   ],
   "source": [
    "for name, param in model.named_parameters():                \n",
    "    if param.requires_grad:\n",
    "        print(name)"
   ]
  },
  {
   "cell_type": "markdown",
   "metadata": {},
   "source": [
    "Train del modello\n",
    "----\n",
    "\n",
    "Definiamo l'ottimizzatore e la funzione di loss"
   ]
  },
  {
   "cell_type": "code",
   "execution_count": 30,
   "metadata": {},
   "outputs": [],
   "source": [
    "import torch.optim as optim\n",
    "\n",
    "optimizer = optim.Adam(model.parameters())\n",
    "criterion = nn.BCEWithLogitsLoss()"
   ]
  },
  {
   "cell_type": "code",
   "execution_count": 31,
   "metadata": {},
   "outputs": [],
   "source": [
    "model = model.to(device)\n",
    "criterion = criterion.to(device)"
   ]
  },
  {
   "cell_type": "markdown",
   "metadata": {},
   "source": [
    "Usiamo la nostra consueta funzione di accuracy e impostiamo il codice per il train/evaluation."
   ]
  },
  {
   "cell_type": "code",
   "execution_count": 32,
   "metadata": {},
   "outputs": [],
   "source": [
    "def binary_accuracy(preds, y):\n",
    "    \"\"\"\n",
    "    Returns accuracy per batch, i.e. if you get 8/10 right, this returns 0.8, NOT 8\n",
    "    \"\"\"\n",
    "\n",
    "    #round predictions to the closest integer\n",
    "    rounded_preds = torch.round(torch.sigmoid(preds))\n",
    "    correct = (rounded_preds == y).float() #convert into float for division \n",
    "    acc = correct.sum() / len(correct)\n",
    "    return acc"
   ]
  },
  {
   "cell_type": "code",
   "execution_count": 33,
   "metadata": {},
   "outputs": [],
   "source": [
    "def train(model, iterator, optimizer, criterion):\n",
    "    \n",
    "    epoch_loss = 0\n",
    "    epoch_acc = 0\n",
    "    \n",
    "    model.train()\n",
    "    \n",
    "    for batch in iterator:\n",
    "        \n",
    "        optimizer.zero_grad()\n",
    "        \n",
    "        predictions = model(batch.text).squeeze(1)\n",
    "        \n",
    "        loss = criterion(predictions, batch.label)\n",
    "        \n",
    "        acc = binary_accuracy(predictions, batch.label)\n",
    "        \n",
    "        loss.backward()\n",
    "        \n",
    "        optimizer.step()\n",
    "        \n",
    "        epoch_loss += loss.item()\n",
    "        epoch_acc += acc.item()\n",
    "        \n",
    "    return epoch_loss / len(iterator), epoch_acc / len(iterator)"
   ]
  },
  {
   "cell_type": "code",
   "execution_count": 34,
   "metadata": {},
   "outputs": [],
   "source": [
    "def evaluate(model, iterator, criterion):\n",
    "    \n",
    "    epoch_loss = 0\n",
    "    epoch_acc = 0\n",
    "    \n",
    "    model.eval()\n",
    "    \n",
    "    with torch.no_grad():\n",
    "    \n",
    "        for batch in iterator:\n",
    "\n",
    "            predictions = model(batch.text).squeeze(1)\n",
    "            \n",
    "            loss = criterion(predictions, batch.label)\n",
    "            \n",
    "            acc = binary_accuracy(predictions, batch.label)\n",
    "\n",
    "            epoch_loss += loss.item()\n",
    "            epoch_acc += acc.item()\n",
    "        \n",
    "    return epoch_loss / len(iterator), epoch_acc / len(iterator)"
   ]
  },
  {
   "cell_type": "code",
   "execution_count": 35,
   "metadata": {},
   "outputs": [],
   "source": [
    "import time\n",
    "\n",
    "def epoch_time(start_time, end_time):\n",
    "    elapsed_time = end_time - start_time\n",
    "    elapsed_mins = int(elapsed_time / 60)\n",
    "    elapsed_secs = int(elapsed_time - (elapsed_mins * 60))\n",
    "    return elapsed_mins, elapsed_secs"
   ]
  },
  {
   "cell_type": "markdown",
   "metadata": {},
   "source": [
    "Finalmente siamo pronti per la fase di train. Come vedremo ora i tempi sono molto più lunghi dei precedenti modelli, questo è dovuto alla dimensione del transformer.\n",
    "\n",
    "Anche se non stiamo eseguendo nessun calcolo del gradiente con i parametri del transformer dobbiamo sempre fare tutti i calcoli per ottenere il vettore finale. Questo consuma un bel po di tempo anche in una GPU."
   ]
  },
  {
   "cell_type": "code",
   "execution_count": 36,
   "metadata": {},
   "outputs": [
    {
     "name": "stdout",
     "output_type": "stream",
     "text": [
      "Epoch: 01 | Epoch Time: 11m 35s\n",
      "\tTrain Loss: 0.651 | Train Acc: 64.14%\n",
      "\t Val. Loss: 0.533 |  Val. Acc: 79.47%\n",
      "Epoch: 02 | Epoch Time: 11m 3s\n",
      "\tTrain Loss: 0.590 | Train Acc: 72.68%\n",
      "\t Val. Loss: 0.464 |  Val. Acc: 80.93%\n",
      "Epoch: 03 | Epoch Time: 11m 5s\n",
      "\tTrain Loss: 0.558 | Train Acc: 74.43%\n",
      "\t Val. Loss: 0.427 |  Val. Acc: 81.93%\n"
     ]
    },
    {
     "ename": "KeyboardInterrupt",
     "evalue": "",
     "output_type": "error",
     "traceback": [
      "\u001b[1;31m---------------------------------------------------------------------------\u001b[0m",
      "\u001b[1;31mKeyboardInterrupt\u001b[0m                         Traceback (most recent call last)",
      "\u001b[1;32m<ipython-input-36-25e1c336adca>\u001b[0m in \u001b[0;36m<module>\u001b[1;34m\u001b[0m\n\u001b[0;32m      7\u001b[0m     \u001b[0mstart_time\u001b[0m \u001b[1;33m=\u001b[0m \u001b[0mtime\u001b[0m\u001b[1;33m.\u001b[0m\u001b[0mtime\u001b[0m\u001b[1;33m(\u001b[0m\u001b[1;33m)\u001b[0m\u001b[1;33m\u001b[0m\u001b[1;33m\u001b[0m\u001b[0m\n\u001b[0;32m      8\u001b[0m \u001b[1;33m\u001b[0m\u001b[0m\n\u001b[1;32m----> 9\u001b[1;33m     \u001b[0mtrain_loss\u001b[0m\u001b[1;33m,\u001b[0m \u001b[0mtrain_acc\u001b[0m \u001b[1;33m=\u001b[0m \u001b[0mtrain\u001b[0m\u001b[1;33m(\u001b[0m\u001b[0mmodel\u001b[0m\u001b[1;33m,\u001b[0m \u001b[0mtrain_iterator\u001b[0m\u001b[1;33m,\u001b[0m \u001b[0moptimizer\u001b[0m\u001b[1;33m,\u001b[0m \u001b[0mcriterion\u001b[0m\u001b[1;33m)\u001b[0m\u001b[1;33m\u001b[0m\u001b[1;33m\u001b[0m\u001b[0m\n\u001b[0m\u001b[0;32m     10\u001b[0m     \u001b[0mvalid_loss\u001b[0m\u001b[1;33m,\u001b[0m \u001b[0mvalid_acc\u001b[0m \u001b[1;33m=\u001b[0m \u001b[0mevaluate\u001b[0m\u001b[1;33m(\u001b[0m\u001b[0mmodel\u001b[0m\u001b[1;33m,\u001b[0m \u001b[0mvalid_iterator\u001b[0m\u001b[1;33m,\u001b[0m \u001b[0mcriterion\u001b[0m\u001b[1;33m)\u001b[0m\u001b[1;33m\u001b[0m\u001b[1;33m\u001b[0m\u001b[0m\n\u001b[0;32m     11\u001b[0m \u001b[1;33m\u001b[0m\u001b[0m\n",
      "\u001b[1;32m<ipython-input-33-e2bf2f5907c7>\u001b[0m in \u001b[0;36mtrain\u001b[1;34m(model, iterator, optimizer, criterion)\u001b[0m\n\u001b[0;32m     20\u001b[0m         \u001b[0moptimizer\u001b[0m\u001b[1;33m.\u001b[0m\u001b[0mstep\u001b[0m\u001b[1;33m(\u001b[0m\u001b[1;33m)\u001b[0m\u001b[1;33m\u001b[0m\u001b[1;33m\u001b[0m\u001b[0m\n\u001b[0;32m     21\u001b[0m \u001b[1;33m\u001b[0m\u001b[0m\n\u001b[1;32m---> 22\u001b[1;33m         \u001b[0mepoch_loss\u001b[0m \u001b[1;33m+=\u001b[0m \u001b[0mloss\u001b[0m\u001b[1;33m.\u001b[0m\u001b[0mitem\u001b[0m\u001b[1;33m(\u001b[0m\u001b[1;33m)\u001b[0m\u001b[1;33m\u001b[0m\u001b[1;33m\u001b[0m\u001b[0m\n\u001b[0m\u001b[0;32m     23\u001b[0m         \u001b[0mepoch_acc\u001b[0m \u001b[1;33m+=\u001b[0m \u001b[0macc\u001b[0m\u001b[1;33m.\u001b[0m\u001b[0mitem\u001b[0m\u001b[1;33m(\u001b[0m\u001b[1;33m)\u001b[0m\u001b[1;33m\u001b[0m\u001b[1;33m\u001b[0m\u001b[0m\n\u001b[0;32m     24\u001b[0m \u001b[1;33m\u001b[0m\u001b[0m\n",
      "\u001b[1;31mKeyboardInterrupt\u001b[0m: "
     ]
    }
   ],
   "source": [
    "N_EPOCHS = 5\n",
    "\n",
    "best_valid_loss = float('inf')\n",
    "\n",
    "for epoch in range(N_EPOCHS):\n",
    "    \n",
    "    start_time = time.time()\n",
    "    \n",
    "    train_loss, train_acc = train(model, train_iterator, optimizer, criterion)\n",
    "    valid_loss, valid_acc = evaluate(model, valid_iterator, criterion)\n",
    "        \n",
    "    end_time = time.time()\n",
    "        \n",
    "    epoch_mins, epoch_secs = epoch_time(start_time, end_time)\n",
    "        \n",
    "    if valid_loss < best_valid_loss:\n",
    "        best_valid_loss = valid_loss\n",
    "        torch.save(model.state_dict(), 'tut5-model.pt')\n",
    "    \n",
    "    print(f'Epoch: {epoch+1:02} | Epoch Time: {epoch_mins}m {epoch_secs}s')\n",
    "    print(f'\\tTrain Loss: {train_loss:.3f} | Train Acc: {train_acc*100:.2f}%')\n",
    "    print(f'\\t Val. Loss: {valid_loss:.3f} |  Val. Acc: {valid_acc*100:.2f}%')"
   ]
  },
  {
   "cell_type": "markdown",
   "metadata": {},
   "source": [
    "Una volta eseguito il train andiamo a caricare i parametri e a vedere il comportamento del modello sul dataset di test"
   ]
  },
  {
   "cell_type": "code",
   "execution_count": 37,
   "metadata": {},
   "outputs": [
    {
     "name": "stdout",
     "output_type": "stream",
     "text": [
      "Test Loss: 0.424 | Test Acc: 81.80%\n"
     ]
    }
   ],
   "source": [
    "model.load_state_dict(torch.load('tut5-model.pt'))\n",
    "\n",
    "test_loss, test_acc = evaluate(model, test_iterator, criterion)\n",
    "\n",
    "print(f'Test Loss: {test_loss:.3f} | Test Acc: {test_acc*100:.2f}%')"
   ]
  },
  {
   "cell_type": "markdown",
   "metadata": {},
   "source": [
    "Input personalizzato\n",
    "---\n",
    "\n",
    "Controlliamo il modello per verificare alcune sequenze. Andremo a creare i token della sequenza di input, la taglieremo alla massima lunghezza impostando i token speciali. Come ultima cosa si crea il tensore per create un finto batch da dare al nostro modello."
   ]
  },
  {
   "cell_type": "code",
   "execution_count": 38,
   "metadata": {},
   "outputs": [],
   "source": [
    "def predict_sentiment(model, tokenizer, sentence):\n",
    "    model.eval()\n",
    "    tokens = tokenizer.tokenize(sentence)\n",
    "    tokens = tokens[:max_input_length-2]\n",
    "    indexed = [init_token_idx] + tokenizer.convert_tokens_to_ids(tokens) + [eos_token_idx]\n",
    "    tensor = torch.LongTensor(indexed).to(device)\n",
    "    tensor = tensor.unsqueeze(0)\n",
    "    prediction = torch.sigmoid(model(tensor))\n",
    "    return prediction.item()"
   ]
  },
  {
   "cell_type": "code",
   "execution_count": 39,
   "metadata": {},
   "outputs": [
    {
     "data": {
      "text/plain": [
       "0.11642389744520187"
      ]
     },
     "execution_count": 39,
     "metadata": {},
     "output_type": "execute_result"
    }
   ],
   "source": [
    "predict_sentiment(model, tokenizer, \"This film is terrible\")"
   ]
  },
  {
   "cell_type": "code",
   "execution_count": 40,
   "metadata": {},
   "outputs": [
    {
     "data": {
      "text/plain": [
       "0.8123869895935059"
      ]
     },
     "execution_count": 40,
     "metadata": {},
     "output_type": "execute_result"
    }
   ],
   "source": [
    "predict_sentiment(model, tokenizer, \"This film is great\")"
   ]
  }
 ],
 "metadata": {
  "kernelspec": {
   "display_name": "Python 3",
   "language": "python",
   "name": "python3"
  },
  "language_info": {
   "codemirror_mode": {
    "name": "ipython",
    "version": 3
   },
   "file_extension": ".py",
   "mimetype": "text/x-python",
   "name": "python",
   "nbconvert_exporter": "python",
   "pygments_lexer": "ipython3",
   "version": "3.7.7"
  }
 },
 "nbformat": 4,
 "nbformat_minor": 4
}
